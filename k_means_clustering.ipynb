{
  "nbformat": 4,
  "nbformat_minor": 0,
  "metadata": {
    "colab": {
      "provenance": [],
      "authorship_tag": "ABX9TyOcr9D81bQIdIPZ4QnEILAP",
      "include_colab_link": true
    },
    "kernelspec": {
      "name": "python3",
      "display_name": "Python 3"
    },
    "language_info": {
      "name": "python"
    }
  },
  "cells": [
    {
      "cell_type": "markdown",
      "metadata": {
        "id": "view-in-github",
        "colab_type": "text"
      },
      "source": [
        "<a href=\"https://colab.research.google.com/github/ASHMITA489/Python/blob/master/k_means_clustering.ipynb\" target=\"_parent\"><img src=\"https://colab.research.google.com/assets/colab-badge.svg\" alt=\"Open In Colab\"/></a>"
      ]
    },
    {
      "cell_type": "code",
      "source": [
        "!pip install kmeans"
      ],
      "metadata": {
        "colab": {
          "base_uri": "https://localhost:8080/"
        },
        "id": "HfpjR3Vz_sLQ",
        "outputId": "f7263aa1-c24e-4b5a-9146-f5df87272903"
      },
      "execution_count": null,
      "outputs": [
        {
          "output_type": "stream",
          "name": "stdout",
          "text": [
            "Requirement already satisfied: kmeans in /usr/local/lib/python3.10/dist-packages (1.0.2)\n"
          ]
        }
      ]
    },
    {
      "cell_type": "code",
      "execution_count": null,
      "metadata": {
        "id": "IHizNHNU_SYS"
      },
      "outputs": [],
      "source": [
        "from sklearn.datasets import make_blobs\n",
        "import matplotlib.pyplot as plt\n",
        "from sklearn.cluster import KMeans"
      ]
    },
    {
      "cell_type": "code",
      "source": [
        "centroids=[(-5,-5), (5,5), (-2.5, 2.5)]\n",
        "cluster_std=[1,1,1]"
      ],
      "metadata": {
        "id": "csAZBhbp_hqe"
      },
      "execution_count": null,
      "outputs": []
    },
    {
      "cell_type": "code",
      "source": [
        "x,y=make_blobs(n_samples=100, centers=centroids, cluster_std=cluster_std, n_features=2, random_state=2)"
      ],
      "metadata": {
        "id": "DZmaN5TfAvd9"
      },
      "execution_count": null,
      "outputs": []
    },
    {
      "cell_type": "code",
      "source": [
        "import random\n",
        "import numpy as np"
      ],
      "metadata": {
        "id": "Po4474scBCWF"
      },
      "execution_count": null,
      "outputs": []
    },
    {
      "cell_type": "code",
      "source": [
        "class KMeans:\n",
        "  def __init__(self, n_clusters=2, max_iter=100):\n",
        "    self.n_clusters=n_clusters\n",
        "    self.max_iter=max_iter\n",
        "    self.centroids=None\n",
        "\n",
        "  def fit_predict(self, x):\n",
        "\n",
        "    random_index=random.sample(range(0, x.shape[0]), self.n_clusters)\n",
        "    self.centroids=x[random_index]\n",
        "\n",
        "    for i in range(self.max_iter):\n",
        "      #assign clusters\n",
        "      cluster_group=self.assign_clusters(x)\n",
        "      old_centroids=self.centroids\n",
        "      #move centroids\n",
        "      self.centroids=self.move_centroids(x, cluster_group)\n",
        "      #check finish\n",
        "      if (self.centroids==old_centroids).all():\n",
        "        break\n",
        "    return cluster_group\n",
        "\n",
        "\n",
        "  def assign_clusters(self, x):\n",
        "    cluster_group=[]\n",
        "    distances=[]\n",
        "\n",
        "    for row in x:\n",
        "      for centroid in self.centroids:\n",
        "        distances.append(np.sqrt(np.dot(row-centroid, row-centroid)))\n",
        "      min_distances=min(distances)\n",
        "      index_pos=distances.index(min_distances)\n",
        "      distances.clear()\n",
        "      cluster_group.append(index_pos)\n",
        "    return np.array(cluster_group)\n",
        "\n",
        "  def move_centroids(self, x, cluster_group):\n",
        "    new_centroids=[]\n",
        "    cluster_type=np.unique(cluster_group)\n",
        "\n",
        "    for type in cluster_type:\n",
        "      new_centroids.append(x[cluster_group==type].mean(axis=0))\n",
        "\n",
        "    return np.array(new_centroids)"
      ],
      "metadata": {
        "id": "ALgSI1waBJ3P"
      },
      "execution_count": null,
      "outputs": []
    },
    {
      "cell_type": "code",
      "source": [
        "km=KMeans(n_clusters=3, max_iter=100)\n",
        "y_means=km.fit_predict(x)\n",
        "plt.scatter(x[y_means==0,0], x[y_means==0,1], color='red')\n",
        "plt.scatter(x[y_means==1,0], x[y_means==1,1], color='blue')\n",
        "plt.scatter(x[y_means==2,0], x[y_means==2,1], color='green')\n",
        "plt.show()"
      ],
      "metadata": {
        "colab": {
          "base_uri": "https://localhost:8080/",
          "height": 430
        },
        "id": "XzaTSqPdRMPa",
        "outputId": "a5c4f4d4-de02-45dd-c756-7aaa3012ad7c"
      },
      "execution_count": null,
      "outputs": [
        {
          "output_type": "display_data",
          "data": {
            "text/plain": [
              "<Figure size 640x480 with 1 Axes>"
            ],
            "image/png": "[encoded data removed]"
          },
          "metadata": {}
        }
      ]
    },
    {
      "cell_type": "code",
      "source": [
        "import numpy as np\n",
        "a=np.array([1,2])\n",
        "b=np.array([4,5])\n",
        "np.sqrt(np.dot(b-a, b-a))"
      ],
      "metadata": {
        "colab": {
          "base_uri": "https://localhost:8080/"
        },
        "id": "8z0hGjsyHxZk",
        "outputId": "5d7d8ae6-174a-4b3b-b44e-2a40c9aa5ba4"
      },
      "execution_count": null,
      "outputs": [
        {
          "output_type": "execute_result",
          "data": {
            "text/plain": [
              "4.242640687119285"
            ]
          },
          "metadata": {},
          "execution_count": 12
        }
      ]
    },
    {
      "cell_type": "code",
      "source": [
        "x=np.array([[1,2], [2,3], [3,4], [4,5], [5,6]])"
      ],
      "metadata": {
        "id": "Iq_j74TcH521"
      },
      "execution_count": null,
      "outputs": []
    },
    {
      "cell_type": "code",
      "source": [
        "x"
      ],
      "metadata": {
        "colab": {
          "base_uri": "https://localhost:8080/"
        },
        "id": "LdlgJBCqPFmS",
        "outputId": "d9544ed5-0e41-4e7b-fd74-b40394072acc"
      },
      "execution_count": null,
      "outputs": [
        {
          "output_type": "execute_result",
          "data": {
            "text/plain": [
              "array([[1, 2],\n",
              "       [2, 3],\n",
              "       [3, 4],\n",
              "       [4, 5],\n",
              "       [5, 6]])"
            ]
          },
          "metadata": {},
          "execution_count": 29
        }
      ]
    },
    {
      "cell_type": "code",
      "source": [
        "cluster_group=np.array([0,1,1,0,0])"
      ],
      "metadata": {
        "id": "cf4YYyfhPF1c"
      },
      "execution_count": null,
      "outputs": []
    },
    {
      "cell_type": "code",
      "source": [
        "np.unique(cluster_group)"
      ],
      "metadata": {
        "colab": {
          "base_uri": "https://localhost:8080/"
        },
        "id": "M9rsqFadPSY8",
        "outputId": "ab3a4507-1249-4dc4-e997-83d13eb650c8"
      },
      "execution_count": null,
      "outputs": [
        {
          "output_type": "execute_result",
          "data": {
            "text/plain": [
              "array([0, 1])"
            ]
          },
          "metadata": {},
          "execution_count": 31
        }
      ]
    },
    {
      "cell_type": "code",
      "source": [
        "for type in np.unique(cluster_group):\n",
        "  print(x[cluster_group==type].mean(axis=0))"
      ],
      "metadata": {
        "colab": {
          "base_uri": "https://localhost:8080/"
        },
        "id": "cK377S4rPVeW",
        "outputId": "dac9e8c2-7951-45f5-cf88-2217e0d5f2bd"
      },
      "execution_count": null,
      "outputs": [
        {
          "output_type": "stream",
          "name": "stdout",
          "text": [
            "[3.33333333 4.33333333]\n",
            "[2.5 3.5]\n"
          ]
        }
      ]
    },
    {
      "cell_type": "code",
      "source": [
        "x[cluster_group==0].mean(axis=0)"
      ],
      "metadata": {
        "colab": {
          "base_uri": "https://localhost:8080/"
        },
        "id": "CvPGjvYCPp4K",
        "outputId": "d71adfea-e720-4a43-bc1b-9f1c41ca965a"
      },
      "execution_count": null,
      "outputs": [
        {
          "output_type": "execute_result",
          "data": {
            "text/plain": [
              "array([3.33333333, 4.33333333])"
            ]
          },
          "metadata": {},
          "execution_count": 36
        }
      ]
    },
    {
      "cell_type": "code",
      "source": [],
      "metadata": {
        "id": "wKGjg9NRPvrJ"
      },
      "execution_count": null,
      "outputs": []
    }
  ]
}